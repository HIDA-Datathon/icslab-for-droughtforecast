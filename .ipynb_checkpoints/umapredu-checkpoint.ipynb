{
 "cells": [
  {
   "cell_type": "code",
   "execution_count": 1,
   "metadata": {},
   "outputs": [
    {
     "ename": "NameError",
     "evalue": "name 'redttd' is not defined",
     "output_type": "error",
     "traceback": [
      "\u001b[0;31m---------------------------------------------------------------------------\u001b[0m",
      "\u001b[0;31mNameError\u001b[0m                                 Traceback (most recent call last)",
      "\u001b[0;32m<ipython-input-1-eb183d74a495>\u001b[0m in \u001b[0;36m<module>\u001b[0;34m\u001b[0m\n\u001b[1;32m     24\u001b[0m \u001b[0mnp\u001b[0m\u001b[0;34m.\u001b[0m\u001b[0msave\u001b[0m\u001b[0;34m(\u001b[0m\u001b[0;34m'redptst10.npy'\u001b[0m\u001b[0;34m,\u001b[0m\u001b[0mreddata\u001b[0m\u001b[0;34m(\u001b[0m\u001b[0mptst\u001b[0m\u001b[0;34m)\u001b[0m\u001b[0;34m)\u001b[0m\u001b[0;34m\u001b[0m\u001b[0;34m\u001b[0m\u001b[0m\n\u001b[1;32m     25\u001b[0m \u001b[0;34m\u001b[0m\u001b[0m\n\u001b[0;32m---> 26\u001b[0;31m \u001b[0mprint\u001b[0m\u001b[0;34m(\u001b[0m\u001b[0mtype\u001b[0m\u001b[0;34m(\u001b[0m\u001b[0mredttd\u001b[0m\u001b[0;34m)\u001b[0m\u001b[0;34m)\u001b[0m\u001b[0;34m\u001b[0m\u001b[0;34m\u001b[0m\u001b[0m\n\u001b[0m\u001b[1;32m     27\u001b[0m \u001b[0mprint\u001b[0m\u001b[0;34m(\u001b[0m\u001b[0mmapper\u001b[0m\u001b[0;34m.\u001b[0m\u001b[0mshape\u001b[0m\u001b[0;34m)\u001b[0m\u001b[0;34m\u001b[0m\u001b[0;34m\u001b[0m\u001b[0m\n\u001b[1;32m     28\u001b[0m \u001b[0;31m# print(ntd.shape)\u001b[0m\u001b[0;34m\u001b[0m\u001b[0;34m\u001b[0m\u001b[0;34m\u001b[0m\u001b[0m\n",
      "\u001b[0;31mNameError\u001b[0m: name 'redttd' is not defined"
     ]
    }
   ],
   "source": [
    "import sys\n",
    "sys.path.insert(0,'/p/project/training2005/jupyter/kernels/umap_learn/lib/python3.6/site-packages')\n",
    "\n",
    "import umap\n",
    "\n",
    "import matplotlib.pyplot as plt\n",
    "import seaborn as sns\n",
    "# import umap.plot\n",
    "\n",
    "import numpy as np\n",
    "ttd = np.load('/p/project/training2005/HZG_Challenge/tas_train.npy')\n",
    "ptd = np.load('/p/project/training2005/HZG_Challenge/psl_train.npy')\n",
    "ntd = np.load('/p/project/training2005/HZG_Challenge/nao_index_train.npy')\n",
    "\n",
    "ttst = np.load('/p/project/training2005/HZG_Challenge/tas_predict.npy')\n",
    "ptst = np.load('/p/project/training2005/HZG_Challenge/psl_predict.npy')\n",
    "\n",
    "def reddata(data, n_components=10):\n",
    "    return umap.UMAP(random_state=42,n_components=n_components).fit_transform(ttd)\n",
    "\n",
    "np.save('redttd10.npy',reddata(ttd))\n",
    "np.save('redptd10.npy',reddata(ptd))\n",
    "np.save('redttst10.npy',reddata(ttst))\n",
    "np.save('redptst10.npy',reddata(ptst))\n",
    "\n",
    "print(type(redttd))\n",
    "print(mapper.shape)\n",
    "# print(ntd.shape)\n",
    "# plt.scatter(\n",
    "#     mapper[:, 0],\n",
    "#     mapper[:, 1],)\n",
    "# #     c=[sns.color_palette()[x] for x in penguins.species_short.map({\"Adelie\":0, \"Chinstrap\":1, \"Gentoo\":2})])\n",
    "# #plt.gca().set_aspect('equal', 'datalim')\n",
    "# plt.title('UMAP projection of the Penguin dataset', fontsize=24)\n",
    "# plt.show()\n",
    "plt.scatter(range(ntd.shape[0]),ntd)\n",
    "plt.show()\n",
    "# umap.plot.points(mapper)"
   ]
  }
 ],
 "metadata": {
  "kernelspec": {
   "display_name": "Python 3",
   "language": "python",
   "name": "python3"
  },
  "language_info": {
   "codemirror_mode": {
    "name": "ipython",
    "version": 3
   },
   "file_extension": ".py",
   "mimetype": "text/x-python",
   "name": "python",
   "nbconvert_exporter": "python",
   "pygments_lexer": "ipython3",
   "version": "3.6.8"
  }
 },
 "nbformat": 4,
 "nbformat_minor": 4
}
