{
 "cells": [
  {
   "cell_type": "code",
   "execution_count": 5,
   "metadata": {},
   "outputs": [],
   "source": [
    "import pandas as pd\n",
    "import numpy as np\n",
    "from matplotlib import pyplot as plt\n",
    "import seaborn as sns\n",
    "from sklearn.decomposition import PCA\n",
    "import tensorflow as tf\n",
    "from sklearn.model_selection import cross_val_score, train_test_split, KFold\n",
    "\n",
    "def load_data(nao_index_train_path = './nao_index_train.npy',\n",
    "              tas_train_path = './tas_train.npy',\n",
    "              psl_train_path = './psl_train.npy'):\n",
    "\n",
    "    x1 = np.load(tas_train_path)\n",
    "    x2 = np.load(psl_train_path)\n",
    "    y = np.load(nao_index_train_path)\n",
    "    return x1, x2, y\n",
    "\n",
    "def cross_run():\n",
    "    for train_index, test_index in kf.split(xnpy, ynpy):\n",
    "        kf = KFold(n_splits=10)\n",
    "        data = kf.get_n_splits(np.concatenate((xnpy,ynpy)))\n",
    "    \n",
    "        #print(\"TRAIN:\", train_index, \"TEST:\", test_index)\n",
    "        X_train, X_val = data[train_index], data[test_index]\n",
    "        y_train, y_val = y[train_index], y[test_index]\n",
    "    \n",
    "        # Convert to Tensors\n",
    "        # Training set\n",
    "        X_train_tensor = tf.convert_to_tensor(X_train, dtype=np.float32, dtype_hint=None, name=None)\n",
    "        y_train_tensor = tf.convert_to_tensor(y_train, dtype=np.float32, dtype_hint=None, name=None)\n",
    "    \n",
    "        # def tensor_convert(x1 = temp_train, x2 = pres_train):\n",
    "        #     y1 = tf.convert_to_tensor(x1, dtype=np.float32, dtype_hint=None, name=None)\n",
    "        #     y2 = tf.convert_to_tensor(x2, dtype=np.float32, dtype_hint=None, name=None)\n",
    "        #     return y1, y2\n",
    "        # temp_tensor, pres_tensor = tensor_convert()\n",
    "\n",
    "        # Validation set\n",
    "        X_val_tensor = tf.convert_to_tensor(X_val, dtype=np.float32, dtype_hint=None, name=None)\n",
    "        y_val_tensor = tf.convert_to_tensor(y_val, dtype=np.float32, dtype_hint=None, name=None)\n",
    "    \n",
    "        # Data loader\n",
    "        train_ds = tf.data.Dataset.from_tensor_slices((X_train_tensor, y_train_tensor))\n",
    "        val_ds = tf.data.Dataset.from_tensor_slices((X_val_tensor, y_val_tensor))\n",
    "    \n",
    "        train_ds = train_ds.shuffle(buffer_size=50, seed=42).batch(64)\n",
    "    "
   ]
  },
  {
   "cell_type": "code",
   "execution_count": 6,
   "metadata": {},
   "outputs": [],
   "source": [
    "\n",
    "\n",
    "temp_train, pres_train, nao_index_train = load_data()"
   ]
  },
  {
   "cell_type": "code",
   "execution_count": 7,
   "metadata": {},
   "outputs": [
    {
     "data": {
      "text/plain": [
       "((900, 2322), (900, 2322), (900,))"
      ]
     },
     "execution_count": 7,
     "metadata": {},
     "output_type": "execute_result"
    }
   ],
   "source": [
    "np.shape(temp_train), np.shape(pres_train), np.shape(nao_index_train)"
   ]
  },
  {
   "cell_type": "code",
   "execution_count": 8,
   "metadata": {},
   "outputs": [],
   "source": [
    "# # PCA with 50 components\n",
    "# pca = PCA(n_components=50)\n",
    "# pca.fit(temp_train)\n",
    "# temp_train = pca.transform(temp_train)\n",
    "# pca.fit(pres_train)\n",
    "# pres_train = pca.transform(pres_train)"
   ]
  },
  {
   "cell_type": "code",
   "execution_count": 9,
   "metadata": {},
   "outputs": [],
   "source": [
    "# Reshape the data as per lat & lon\n",
    "temp_train = np.reshape(temp_train,(900,43,54,1))\n",
    "pres_train = np.reshape(pres_train,(900,43,54,1))"
   ]
  },
  {
   "cell_type": "code",
   "execution_count": 10,
   "metadata": {},
   "outputs": [
    {
     "data": {
      "text/plain": [
       "((900, 43, 54, 2), (900,))"
      ]
     },
     "execution_count": 10,
     "metadata": {},
     "output_type": "execute_result"
    }
   ],
   "source": [
    "X_comb = np.concatenate((temp_train,pres_train), axis =3)\n",
    "y = nao_index_train\n",
    "np.shape(X_comb), np.shape(y)"
   ]
  },
  {
   "cell_type": "code",
   "execution_count": 11,
   "metadata": {},
   "outputs": [],
   "source": [
    "# # Random split CV\n",
    "# X_train, X_val, y_train, y_val= train_test_split(X_comb, y, test_size=0.1, random_state=42)\n",
    "# np.shape(X_train), np.shape(X_val), np.shape(y_train), np.shape(y_val)"
   ]
  },
  {
   "cell_type": "code",
   "execution_count": 12,
   "metadata": {},
   "outputs": [
    {
     "name": "stdout",
     "output_type": "stream",
     "text": [
      "KFold(n_splits=10, random_state=None, shuffle=False)\n"
     ]
    }
   ],
   "source": [
    "# KFolding CV to k=10 splits\n",
    "kf = KFold(n_splits=10)\n",
    "kf.get_n_splits(X_comb)\n",
    "print(kf)"
   ]
  },
  {
   "cell_type": "code",
   "execution_count": 17,
   "metadata": {},
   "outputs": [],
   "source": [
    "for train_index, test_index in kf.split(X_comb):\n",
    "    #print(\"TRAIN:\", train_index, \"TEST:\", test_index)\n",
    "    X_train, X_val = X_comb[train_index], X_comb[test_index]\n",
    "    y_train, y_val = y[train_index], y[test_index]\n",
    "    \n",
    "    # Convert to Tensors\n",
    "    # Training set\n",
    "    X_train_tensor = tf.convert_to_tensor(X_train, dtype=np.float32, dtype_hint=None, name=None)\n",
    "    y_train_tensor = tf.convert_to_tensor(y_train, dtype=np.float32, dtype_hint=None, name=None)\n",
    "    \n",
    "    # def tensor_convert(x1 = temp_train, x2 = pres_train):\n",
    "    #     y1 = tf.convert_to_tensor(x1, dtype=np.float32, dtype_hint=None, name=None)\n",
    "    #     y2 = tf.convert_to_tensor(x2, dtype=np.float32, dtype_hint=None, name=None)\n",
    "    #     return y1, y2\n",
    "    # temp_tensor, pres_tensor = tensor_convert()\n",
    "\n",
    "    # Validation set\n",
    "    X_val_tensor = tf.convert_to_tensor(X_val, dtype=np.float32, dtype_hint=None, name=None)\n",
    "    y_val_tensor = tf.convert_to_tensor(y_val, dtype=np.float32, dtype_hint=None, name=None)\n",
    "    \n",
    "    # Data loader\n",
    "    train_ds = tf.data.Dataset.from_tensor_slices((X_train_tensor, y_train_tensor))\n",
    "    val_ds = tf.data.Dataset.from_tensor_slices((X_val_tensor, y_val_tensor))\n",
    "    \n",
    "    train_ds = train_ds.shuffle(buffer_size=50, seed=42).batch(64)\n",
    "    \n",
    "    ---> MODELfit\n",
    "    ---> EVal"
   ]
  },
  {
   "cell_type": "code",
   "execution_count": null,
   "metadata": {},
   "outputs": [],
   "source": []
  }
 ],
 "metadata": {
  "kernelspec": {
   "display_name": "Python 3",
   "language": "python",
   "name": "python3"
  },
  "language_info": {
   "codemirror_mode": {
    "name": "ipython",
    "version": 3
   },
   "file_extension": ".py",
   "mimetype": "text/x-python",
   "name": "python",
   "nbconvert_exporter": "python",
   "pygments_lexer": "ipython3",
   "version": "3.6.8"
  }
 },
 "nbformat": 4,
 "nbformat_minor": 4
}
